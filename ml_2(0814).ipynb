{
 "cells": [
  {
   "cell_type": "markdown",
   "metadata": {},
   "source": [
    "## Step 0: Configure PySpark environment"
   ]
  },
  {
   "cell_type": "code",
   "execution_count": 1,
   "metadata": {},
   "outputs": [
    {
     "data": {
      "text/html": [
       "Current session configs: <tt>{'conf': {'spark.pyspark.python': 'python3', 'spark.pyspark.virtualenv.enabled': 'true', 'spark.pyspark.virtualenv.type': 'native', 'spark.pyspark.virtualenv.bin.path': '/usr/bin/virtualenv'}, 'proxyUser': 'jovyan', 'kind': 'pyspark'}</tt><br>"
      ],
      "text/plain": [
       "<IPython.core.display.HTML object>"
      ]
     },
     "metadata": {},
     "output_type": "display_data"
    },
    {
     "data": {
      "text/html": [
       "No active sessions."
      ],
      "text/plain": [
       "<IPython.core.display.HTML object>"
      ]
     },
     "metadata": {},
     "output_type": "display_data"
    }
   ],
   "source": [
    "%%configure -f\n",
    "{\n",
    "    \"conf\": {\n",
    "        \"spark.pyspark.python\": \"python3\",\n",
    "        \"spark.pyspark.virtualenv.enabled\": \"true\",\n",
    "        \"spark.pyspark.virtualenv.type\":\"native\",\n",
    "        \"spark.pyspark.virtualenv.bin.path\":\"/usr/bin/virtualenv\"\n",
    "    }\n",
    "}"
   ]
  },
  {
   "cell_type": "code",
   "execution_count": 2,
   "metadata": {},
   "outputs": [
    {
     "name": "stdout",
     "output_type": "stream",
     "text": [
      "Starting Spark application\n"
     ]
    },
    {
     "data": {
      "text/html": [
       "<table>\n",
       "<tr><th>ID</th><th>YARN Application ID</th><th>Kind</th><th>State</th><th>Spark UI</th><th>Driver log</th><th>Current session?</th></tr><tr><td>0</td><td>application_1723658114321_0002</td><td>pyspark</td><td>idle</td><td><a target=\"_blank\" href=\"http://ip-172-31-82-128.ec2.internal:20888/proxy/application_1723658114321_0002/\">Link</a></td><td><a target=\"_blank\" href=\"http://ip-172-31-86-125.ec2.internal:8042/node/containerlogs/container_1723658114321_0002_01_000001/livy\">Link</a></td><td>✔</td></tr></table>"
      ],
      "text/plain": [
       "<IPython.core.display.HTML object>"
      ]
     },
     "metadata": {},
     "output_type": "display_data"
    },
    {
     "data": {
      "application/vnd.jupyter.widget-view+json": {
       "model_id": "",
       "version_major": 2,
       "version_minor": 0
      },
      "text/plain": [
       "FloatProgress(value=0.0, bar_style='info', description='Progress:', layout=Layout(height='25px', width='50%'),…"
      ]
     },
     "metadata": {},
     "output_type": "display_data"
    },
    {
     "name": "stdout",
     "output_type": "stream",
     "text": [
      "SparkSession available as 'spark'.\n"
     ]
    },
    {
     "data": {
      "application/vnd.jupyter.widget-view+json": {
       "model_id": "",
       "version_major": 2,
       "version_minor": 0
      },
      "text/plain": [
       "FloatProgress(value=0.0, bar_style='info', description='Progress:', layout=Layout(height='25px', width='50%'),…"
      ]
     },
     "metadata": {},
     "output_type": "display_data"
    },
    {
     "name": "stdout",
     "output_type": "stream",
     "text": [
      "Collecting scipy==1.4.1\n",
      "  Downloading https://files.pythonhosted.org/packages/dd/82/c1fe128f3526b128cfd185580ba40d01371c5d299fcf7f77968e22dfcc2e/scipy-1.4.1-cp37-cp37m-manylinux1_x86_64.whl (26.1MB)\n",
      "Requirement already satisfied: numpy>=1.13.3 in /usr/local/lib64/python3.7/site-packages (from scipy==1.4.1)\n",
      "Installing collected packages: scipy\n",
      "Successfully installed scipy-1.4.1\n",
      "\n",
      "Collecting matplotlib==3.2.1\n",
      "  Downloading https://files.pythonhosted.org/packages/b2/c2/71fcf957710f3ba1f09088b35776a799ba7dd95f7c2b195ec800933b276b/matplotlib-3.2.1-cp37-cp37m-manylinux1_x86_64.whl (12.4MB)\n",
      "Collecting pyparsing!=2.0.4,!=2.1.2,!=2.1.6,>=2.0.1 (from matplotlib==3.2.1)\n",
      "  Downloading https://files.pythonhosted.org/packages/9d/ea/6d76df31432a0e6fdf81681a895f009a4bb47b3c39036db3e1b528191d52/pyparsing-3.1.2-py3-none-any.whl (103kB)\n",
      "Collecting python-dateutil>=2.1 (from matplotlib==3.2.1)\n",
      "  Downloading https://files.pythonhosted.org/packages/ec/57/56b9bcc3c9c6a792fcbaf139543cee77261f3651ca9da0c93f5c1221264b/python_dateutil-2.9.0.post0-py2.py3-none-any.whl (229kB)\n",
      "Requirement already satisfied: numpy>=1.11 in /usr/local/lib64/python3.7/site-packages (from matplotlib==3.2.1)\n",
      "Collecting cycler>=0.10 (from matplotlib==3.2.1)\n",
      "  Downloading https://files.pythonhosted.org/packages/5c/f9/695d6bedebd747e5eb0fe8fad57b72fdf25411273a39791cde838d5a8f51/cycler-0.11.0-py3-none-any.whl\n",
      "Collecting kiwisolver>=1.0.1 (from matplotlib==3.2.1)\n",
      "  Downloading https://files.pythonhosted.org/packages/f9/77/e3046bf19720b22e3e0b7c12e28f6f2c0c18a213fb91a56cea640862270f/kiwisolver-1.4.5-cp37-cp37m-manylinux_2_5_x86_64.manylinux1_x86_64.whl (1.1MB)\n",
      "Requirement already satisfied: six>=1.5 in /usr/local/lib/python3.7/site-packages (from python-dateutil>=2.1->matplotlib==3.2.1)\n",
      "Collecting typing-extensions; python_version < \"3.8\" (from kiwisolver>=1.0.1->matplotlib==3.2.1)\n",
      "  Downloading https://files.pythonhosted.org/packages/ec/6b/63cc3df74987c36fe26157ee12e09e8f9db4de771e0f3404263117e75b95/typing_extensions-4.7.1-py3-none-any.whl\n",
      "Installing collected packages: pyparsing, python-dateutil, cycler, typing-extensions, kiwisolver, matplotlib\n",
      "Successfully installed cycler-0.11.0 kiwisolver-1.4.5 matplotlib-3.2.1 pyparsing-3.1.2 python-dateutil-2.9.0.post0 typing-extensions-4.7.1\n",
      "\n",
      "Collecting pandas==1.0.5\n",
      "  Downloading https://files.pythonhosted.org/packages/af/f3/683bf2547a3eaeec15b39cef86f61e921b3b187f250fcd2b5c5fb4386369/pandas-1.0.5-cp37-cp37m-manylinux1_x86_64.whl (10.1MB)\n",
      "Requirement already satisfied: numpy>=1.13.3 in /usr/local/lib64/python3.7/site-packages (from pandas==1.0.5)\n",
      "Requirement already satisfied: python-dateutil>=2.6.1 in /mnt/tmp/1723663807340-0/lib/python3.7/site-packages (from pandas==1.0.5)\n",
      "Requirement already satisfied: pytz>=2017.2 in /usr/local/lib/python3.7/site-packages (from pandas==1.0.5)\n",
      "Requirement already satisfied: six>=1.5 in /usr/local/lib/python3.7/site-packages (from python-dateutil>=2.6.1->pandas==1.0.5)\n",
      "Installing collected packages: pandas\n",
      "Successfully installed pandas-1.0.5"
     ]
    }
   ],
   "source": [
    "sc.install_pypi_package(\"scipy==1.4.1\", \"https://pypi.org/simple\")\n",
    "sc.install_pypi_package(\"matplotlib==3.2.1\", \"https://pypi.org/simple\")\n",
    "sc.install_pypi_package(\"pandas==1.0.5\", \"https://pypi.org/simple\")"
   ]
  },
  {
   "cell_type": "code",
   "execution_count": 3,
   "metadata": {},
   "outputs": [
    {
     "data": {
      "application/vnd.jupyter.widget-view+json": {
       "model_id": "",
       "version_major": 2,
       "version_minor": 0
      },
      "text/plain": [
       "FloatProgress(value=0.0, bar_style='info', description='Progress:', layout=Layout(height='25px', width='50%'),…"
      ]
     },
     "metadata": {},
     "output_type": "display_data"
    },
    {
     "name": "stdout",
     "output_type": "stream",
     "text": [
      "Collecting graphviz\n",
      "  Downloading https://files.pythonhosted.org/packages/de/5e/fcbb22c68208d39edff467809d06c9d81d7d27426460ebc598e55130c1aa/graphviz-0.20.1-py3-none-any.whl (47kB)\n",
      "Installing collected packages: graphviz\n",
      "Successfully installed graphviz-0.20.1"
     ]
    }
   ],
   "source": [
    "sc.install_pypi_package(\"graphviz\", \"https://pypi.org/simple\")\n",
    "\n"
   ]
  },
  {
   "cell_type": "code",
   "execution_count": 111,
   "metadata": {},
   "outputs": [
    {
     "data": {
      "application/vnd.jupyter.widget-view+json": {
       "model_id": "",
       "version_major": 2,
       "version_minor": 0
      },
      "text/plain": [
       "FloatProgress(value=0.0, bar_style='info', description='Progress:', layout=Layout(height='25px', width='50%'),…"
      ]
     },
     "metadata": {},
     "output_type": "display_data"
    },
    {
     "name": "stdout",
     "output_type": "stream",
     "text": [
      "Collecting ipython\n",
      "  Downloading https://files.pythonhosted.org/packages/7c/6a/1f1365f4bf9fcb349fcaa5b61edfcefa721aa13ff37c5631296b12fab8e5/ipython-7.34.0-py3-none-any.whl (793kB)\n",
      "Collecting pickleshare (from ipython)\n",
      "  Downloading https://files.pythonhosted.org/packages/9a/41/220f49aaea88bc6fa6cba8d05ecf24676326156c23b991e80b3f2fc24c77/pickleshare-0.7.5-py2.py3-none-any.whl\n",
      "Requirement already satisfied: setuptools>=18.5 in /mnt/tmp/1723583751845-0/lib/python3.7/site-packages (from ipython)\n",
      "Collecting pexpect>4.3; sys_platform != \"win32\" (from ipython)\n",
      "  Downloading https://files.pythonhosted.org/packages/9e/c3/059298687310d527a58bb01f3b1965787ee3b40dce76752eda8b44e9a2c5/pexpect-4.9.0-py2.py3-none-any.whl (63kB)\n",
      "Collecting pygments (from ipython)\n",
      "  Downloading https://files.pythonhosted.org/packages/97/9c/372fef8377a6e340b1704768d20daaded98bf13282b5327beb2e2fe2c7ef/pygments-2.17.2-py3-none-any.whl (1.2MB)\n",
      "Collecting matplotlib-inline (from ipython)\n",
      "  Downloading https://files.pythonhosted.org/packages/f2/51/c34d7a1d528efaae3d8ddb18ef45a41f284eacf9e514523b191b7d0872cc/matplotlib_inline-0.1.6-py3-none-any.whl\n",
      "Collecting prompt-toolkit!=3.0.0,!=3.0.1,<3.1.0,>=2.0.0 (from ipython)\n",
      "  Downloading https://files.pythonhosted.org/packages/e8/23/22750c4b768f09386d1c3cc4337953e8936f48a888fa6dddfb669b2c9088/prompt_toolkit-3.0.47-py3-none-any.whl (386kB)\n",
      "Collecting traitlets>=4.2 (from ipython)\n",
      "  Downloading https://files.pythonhosted.org/packages/77/75/c28e9ef7abec2b7e9ff35aea3e0be6c1aceaf7873c26c95ae1f0d594de71/traitlets-5.9.0-py3-none-any.whl (117kB)\n",
      "Collecting jedi>=0.16 (from ipython)\n",
      "  Downloading https://files.pythonhosted.org/packages/20/9f/bc63f0f0737ad7a60800bfd472a4836661adae21f9c2535f3957b1e54ceb/jedi-0.19.1-py2.py3-none-any.whl (1.6MB)\n",
      "Collecting backcall (from ipython)\n",
      "  Downloading https://files.pythonhosted.org/packages/4c/1c/ff6546b6c12603d8dd1070aa3c3d273ad4c07f5771689a7b69a550e8c951/backcall-0.2.0-py2.py3-none-any.whl\n",
      "Collecting decorator (from ipython)\n",
      "  Downloading https://files.pythonhosted.org/packages/d5/50/83c593b07763e1161326b3b8c6686f0f4b0f24d5526546bee538c89837d6/decorator-5.1.1-py3-none-any.whl\n",
      "Collecting ptyprocess>=0.5 (from pexpect>4.3; sys_platform != \"win32\"->ipython)\n",
      "  Downloading https://files.pythonhosted.org/packages/22/a6/858897256d0deac81a172289110f31629fc4cee19b6f01283303e18c8db3/ptyprocess-0.7.0-py2.py3-none-any.whl\n",
      "Collecting wcwidth (from prompt-toolkit!=3.0.0,!=3.0.1,<3.1.0,>=2.0.0->ipython)\n",
      "  Downloading https://files.pythonhosted.org/packages/fd/84/fd2ba7aafacbad3c4201d395674fc6348826569da3c0937e75505ead3528/wcwidth-0.2.13-py2.py3-none-any.whl\n",
      "Collecting parso<0.9.0,>=0.8.3 (from jedi>=0.16->ipython)\n",
      "  Downloading https://files.pythonhosted.org/packages/c6/ac/dac4a63f978e4dcb3c6d3a78c4d8e0192a113d288502a1216950c41b1027/parso-0.8.4-py2.py3-none-any.whl (103kB)\n",
      "Installing collected packages: pickleshare, ptyprocess, pexpect, pygments, traitlets, matplotlib-inline, wcwidth, prompt-toolkit, parso, jedi, backcall, decorator, ipython\n",
      "Successfully installed backcall-0.2.0 decorator-5.1.1 ipython-7.34.0 jedi-0.19.1 matplotlib-inline-0.1.6 parso-0.8.4 pexpect-4.9.0 pickleshare-0.7.5 prompt-toolkit-3.0.47 ptyprocess-0.7.0 pygments-2.17.2 traitlets-5.9.0 wcwidth-0.2.13"
     ]
    }
   ],
   "source": [
    "sc.install_pypi_package(\"ipython\",\"https://pypi.org/simple\")\n"
   ]
  },
  {
   "cell_type": "code",
   "execution_count": 4,
   "metadata": {},
   "outputs": [
    {
     "data": {
      "application/vnd.jupyter.widget-view+json": {
       "model_id": "",
       "version_major": 2,
       "version_minor": 0
      },
      "text/plain": [
       "FloatProgress(value=0.0, bar_style='info', description='Progress:', layout=Layout(height='25px', width='50%'),…"
      ]
     },
     "metadata": {},
     "output_type": "display_data"
    }
   ],
   "source": [
    "import pyspark.sql.functions as F\n",
    "from pyspark.ml.classification import LogisticRegression\n",
    "from pyspark.ml.classification import RandomForestClassifier\n",
    "from pyspark.ml.evaluation import MulticlassClassificationEvaluator\n",
    "from pyspark.mllib.evaluation import MulticlassMetrics\n",
    "from pyspark.sql.functions import col\n",
    "from pyspark.ml.regression import LinearRegression\n",
    "from pyspark.ml.evaluation import RegressionEvaluator\n",
    "from pyspark.ml.feature import VectorAssembler\n",
    "import matplotlib.pyplot as plt\n",
    "from pyspark.ml.feature import Bucketizer, OneHotEncoder, StringIndexer, VectorAssembler\n",
    "from pyspark.ml.regression import LinearRegression\n",
    "from pyspark.ml import Pipeline\n",
    "from pyspark.ml.tuning import CrossValidator, ParamGridBuilder\n",
    "from pyspark.ml.evaluation import RegressionEvaluator\n",
    "from pyspark.ml.feature import Normalizer\n",
    "import numpy as np\n",
    "from graphviz import Source"
   ]
  },
  {
   "cell_type": "markdown",
   "metadata": {},
   "source": [
    "## Step 1: Data Processing and Visualization"
   ]
  },
  {
   "cell_type": "code",
   "execution_count": 5,
   "metadata": {},
   "outputs": [
    {
     "data": {
      "application/vnd.jupyter.widget-view+json": {
       "model_id": "",
       "version_major": 2,
       "version_minor": 0
      },
      "text/plain": [
       "FloatProgress(value=0.0, bar_style='info', description='Progress:', layout=Layout(height='25px', width='50%'),…"
      ]
     },
     "metadata": {},
     "output_type": "display_data"
    }
   ],
   "source": [
    "\n",
    "data_0 = spark.read.csv('s3://africamining/final_mine_dataset.csv', header=True, inferSchema=True)\n"
   ]
  },
  {
   "cell_type": "code",
   "execution_count": 6,
   "metadata": {},
   "outputs": [
    {
     "data": {
      "application/vnd.jupyter.widget-view+json": {
       "model_id": "",
       "version_major": 2,
       "version_minor": 0
      },
      "text/plain": [
       "FloatProgress(value=0.0, bar_style='info', description='Progress:', layout=Layout(height='25px', width='50%'),…"
      ]
     },
     "metadata": {},
     "output_type": "display_data"
    }
   ],
   "source": [
    "data_1 = spark.read.csv('s3://africamining/final_not_mine_dataset.csv', header=True, inferSchema=True)\n"
   ]
  },
  {
   "cell_type": "code",
   "execution_count": 8,
   "metadata": {},
   "outputs": [
    {
     "data": {
      "application/vnd.jupyter.widget-view+json": {
       "model_id": "",
       "version_major": 2,
       "version_minor": 0
      },
      "text/plain": [
       "FloatProgress(value=0.0, bar_style='info', description='Progress:', layout=Layout(height='25px', width='50%'),…"
      ]
     },
     "metadata": {},
     "output_type": "display_data"
    },
    {
     "name": "stdout",
     "output_type": "stream",
     "text": [
      "Total Columns: 3\n",
      "Total Rows: 4560\n",
      "root\n",
      " |-- lable: string (nullable = true)\n",
      " |-- latitude: double (nullable = true)\n",
      " |-- longitude: double (nullable = true)"
     ]
    }
   ],
   "source": [
    "print('Total Columns: %d' % len(data_0.dtypes))\n",
    "print('Total Rows: %d' % data_0.count())\n",
    "data_0.printSchema()"
   ]
  },
  {
   "cell_type": "code",
   "execution_count": 10,
   "metadata": {},
   "outputs": [
    {
     "data": {
      "application/vnd.jupyter.widget-view+json": {
       "model_id": "",
       "version_major": 2,
       "version_minor": 0
      },
      "text/plain": [
       "FloatProgress(value=0.0, bar_style='info', description='Progress:', layout=Layout(height='25px', width='50%'),…"
      ]
     },
     "metadata": {},
     "output_type": "display_data"
    }
   ],
   "source": [
    "data = spark.read.csv('s3://africamining/combined_output(all_feature).csv', header=True, inferSchema=True)\n"
   ]
  },
  {
   "cell_type": "code",
   "execution_count": 16,
   "metadata": {},
   "outputs": [
    {
     "data": {
      "application/vnd.jupyter.widget-view+json": {
       "model_id": "",
       "version_major": 2,
       "version_minor": 0
      },
      "text/plain": [
       "FloatProgress(value=0.0, bar_style='info', description='Progress:', layout=Layout(height='25px', width='50%'),…"
      ]
     },
     "metadata": {},
     "output_type": "display_data"
    }
   ],
   "source": [
    "# 加载数据 (假设数据已经加载到 data1, data2 和 data)\n",
    "# 使用经纬度连接 data1 和 data\n",
    "matched_data0 = data_1.join(data, on=[\"latitude\", \"longitude\"], how=\"inner\")\n",
    "\n",
    "# 使用经纬度连接 data2 和 data\n",
    "matched_data1 = data_0.join(data, on=[\"latitude\", \"longitude\"], how=\"inner\")\n"
   ]
  },
  {
   "cell_type": "code",
   "execution_count": 54,
   "metadata": {},
   "outputs": [
    {
     "data": {
      "application/vnd.jupyter.widget-view+json": {
       "model_id": "",
       "version_major": 2,
       "version_minor": 0
      },
      "text/plain": [
       "FloatProgress(value=0.0, bar_style='info', description='Progress:', layout=Layout(height='25px', width='50%'),…"
      ]
     },
     "metadata": {},
     "output_type": "display_data"
    }
   ],
   "source": [
    "from pyspark.sql.functions import lit\n",
    "\n",
    "# Add a new column Mining_Label with value 0\n",
    "matched_data0 = matched_data0.withColumn(\"Mining_Label\", lit(0))\n",
    "# Add a new column Mining_Label with value 1\n",
    "matched_data1 = matched_data1.withColumn(\"Mining_Label\", lit(1))\n"
   ]
  },
  {
   "cell_type": "code",
   "execution_count": 55,
   "metadata": {},
   "outputs": [
    {
     "data": {
      "application/vnd.jupyter.widget-view+json": {
       "model_id": "",
       "version_major": 2,
       "version_minor": 0
      },
      "text/plain": [
       "FloatProgress(value=0.0, bar_style='info', description='Progress:', layout=Layout(height='25px', width='50%'),…"
      ]
     },
     "metadata": {},
     "output_type": "display_data"
    },
    {
     "name": "stdout",
     "output_type": "stream",
     "text": [
      "Total Columns: 18\n",
      "Total Rows: 4316\n",
      "root\n",
      " |-- latitude: double (nullable = true)\n",
      " |-- longitude: double (nullable = true)\n",
      " |-- lable: string (nullable = true)\n",
      " |-- Unnamed: 0: integer (nullable = true)\n",
      " |-- NDVI_Loss: double (nullable = true)\n",
      " |-- Band1_2023: double (nullable = true)\n",
      " |-- Band2_2023: double (nullable = true)\n",
      " |-- Band3_2023: double (nullable = true)\n",
      " |-- Band6_2023: double (nullable = true)\n",
      " |-- Band10_2023: double (nullable = true)\n",
      " |-- Mining_Label: integer (nullable = false)\n",
      " |-- geometry: string (nullable = true)\n",
      " |-- Assets: string (nullable = true)\n",
      " |-- Type: string (nullable = true)\n",
      " |-- Owner: string (nullable = true)\n",
      " |-- Distance_to_Waterways: double (nullable = true)\n",
      " |-- Distance_to_Protected_Areas_Points: double (nullable = true)\n",
      " |-- Distance_to_Roads: double (nullable = true)"
     ]
    }
   ],
   "source": [
    "print('Total Columns: %d' % len(matched_data1.dtypes))\n",
    "print('Total Rows: %d' % matched_data1.count())\n",
    "matched_data1.printSchema()"
   ]
  },
  {
   "cell_type": "code",
   "execution_count": 56,
   "metadata": {},
   "outputs": [
    {
     "data": {
      "application/vnd.jupyter.widget-view+json": {
       "model_id": "",
       "version_major": 2,
       "version_minor": 0
      },
      "text/plain": [
       "FloatProgress(value=0.0, bar_style='info', description='Progress:', layout=Layout(height='25px', width='50%'),…"
      ]
     },
     "metadata": {},
     "output_type": "display_data"
    },
    {
     "name": "stdout",
     "output_type": "stream",
     "text": [
      "Total Columns: 18\n",
      "Total Rows: 6269\n",
      "root\n",
      " |-- latitude: double (nullable = true)\n",
      " |-- longitude: double (nullable = true)\n",
      " |-- lable: string (nullable = true)\n",
      " |-- Unnamed: 0: integer (nullable = true)\n",
      " |-- NDVI_Loss: double (nullable = true)\n",
      " |-- Band1_2023: double (nullable = true)\n",
      " |-- Band2_2023: double (nullable = true)\n",
      " |-- Band3_2023: double (nullable = true)\n",
      " |-- Band6_2023: double (nullable = true)\n",
      " |-- Band10_2023: double (nullable = true)\n",
      " |-- Mining_Label: integer (nullable = false)\n",
      " |-- geometry: string (nullable = true)\n",
      " |-- Assets: string (nullable = true)\n",
      " |-- Type: string (nullable = true)\n",
      " |-- Owner: string (nullable = true)\n",
      " |-- Distance_to_Waterways: double (nullable = true)\n",
      " |-- Distance_to_Protected_Areas_Points: double (nullable = true)\n",
      " |-- Distance_to_Roads: double (nullable = true)"
     ]
    }
   ],
   "source": [
    "print('Total Columns: %d' % len(matched_data0.dtypes))\n",
    "print('Total Rows: %d' % matched_data0.count())\n",
    "matched_data0.printSchema()"
   ]
  },
  {
   "cell_type": "code",
   "execution_count": 28,
   "metadata": {},
   "outputs": [
    {
     "data": {
      "application/vnd.jupyter.widget-view+json": {
       "model_id": "",
       "version_major": 2,
       "version_minor": 0
      },
      "text/plain": [
       "FloatProgress(value=0.0, bar_style='info', description='Progress:', layout=Layout(height='25px', width='50%'),…"
      ]
     },
     "metadata": {},
     "output_type": "display_data"
    },
    {
     "name": "stdout",
     "output_type": "stream",
     "text": [
      "+-------+-------------------+\n",
      "|summary|          NDVI_Loss|\n",
      "+-------+-------------------+\n",
      "|  count|               6269|\n",
      "|   mean| 0.1745773383873031|\n",
      "| stddev|0.02350705318882293|\n",
      "|    min|         0.15000102|\n",
      "|    max|         0.27147865|\n",
      "+-------+-------------------+"
     ]
    }
   ],
   "source": [
    "matched_data0.describe(['NDVI_Loss']) \\\n",
    "    .show()"
   ]
  },
  {
   "cell_type": "code",
   "execution_count": 20,
   "metadata": {},
   "outputs": [
    {
     "data": {
      "application/vnd.jupyter.widget-view+json": {
       "model_id": "",
       "version_major": 2,
       "version_minor": 0
      },
      "text/plain": [
       "FloatProgress(value=0.0, bar_style='info', description='Progress:', layout=Layout(height='25px', width='50%'),…"
      ]
     },
     "metadata": {},
     "output_type": "display_data"
    },
    {
     "name": "stdout",
     "output_type": "stream",
     "text": [
      "+-------+--------------------+\n",
      "|summary|           NDVI_Loss|\n",
      "+-------+--------------------+\n",
      "|  count|                4316|\n",
      "|   mean| 0.17111490204819257|\n",
      "| stddev|0.017949172204779693|\n",
      "|    min|          0.15000023|\n",
      "|    max|          0.27147782|\n",
      "+-------+--------------------+"
     ]
    }
   ],
   "source": [
    "matched_data1.describe(['NDVI_Loss']) \\\n",
    "    .show()"
   ]
  },
  {
   "cell_type": "code",
   "execution_count": 57,
   "metadata": {},
   "outputs": [
    {
     "data": {
      "application/vnd.jupyter.widget-view+json": {
       "model_id": "",
       "version_major": 2,
       "version_minor": 0
      },
      "text/plain": [
       "FloatProgress(value=0.0, bar_style='info', description='Progress:', layout=Layout(height='25px', width='50%'),…"
      ]
     },
     "metadata": {},
     "output_type": "display_data"
    }
   ],
   "source": [
    "# Sample a larger fraction to ensure you have enough rows\n",
    "random_sample = matched_data0.sample(withReplacement=False, fraction=0.7, seed=1)\n",
    "\n",
    "# Limit to exactly 4316 rows\n",
    "randomdata_0 = random_sample.limit(4316)\n",
    "\n"
   ]
  },
  {
   "cell_type": "code",
   "execution_count": 58,
   "metadata": {},
   "outputs": [
    {
     "data": {
      "application/vnd.jupyter.widget-view+json": {
       "model_id": "",
       "version_major": 2,
       "version_minor": 0
      },
      "text/plain": [
       "FloatProgress(value=0.0, bar_style='info', description='Progress:', layout=Layout(height='25px', width='50%'),…"
      ]
     },
     "metadata": {},
     "output_type": "display_data"
    },
    {
     "name": "stdout",
     "output_type": "stream",
     "text": [
      "Total Columns: 18\n",
      "Total Rows: 4316\n",
      "root\n",
      " |-- latitude: double (nullable = true)\n",
      " |-- longitude: double (nullable = true)\n",
      " |-- lable: string (nullable = true)\n",
      " |-- Unnamed: 0: integer (nullable = true)\n",
      " |-- NDVI_Loss: double (nullable = true)\n",
      " |-- Band1_2023: double (nullable = true)\n",
      " |-- Band2_2023: double (nullable = true)\n",
      " |-- Band3_2023: double (nullable = true)\n",
      " |-- Band6_2023: double (nullable = true)\n",
      " |-- Band10_2023: double (nullable = true)\n",
      " |-- Mining_Label: integer (nullable = false)\n",
      " |-- geometry: string (nullable = true)\n",
      " |-- Assets: string (nullable = true)\n",
      " |-- Type: string (nullable = true)\n",
      " |-- Owner: string (nullable = true)\n",
      " |-- Distance_to_Waterways: double (nullable = true)\n",
      " |-- Distance_to_Protected_Areas_Points: double (nullable = true)\n",
      " |-- Distance_to_Roads: double (nullable = true)"
     ]
    }
   ],
   "source": [
    "print('Total Columns: %d' % len(randomdata_0.dtypes))\n",
    "print('Total Rows: %d' % randomdata_0.count())\n",
    "randomdata_0.printSchema()"
   ]
  },
  {
   "cell_type": "code",
   "execution_count": 59,
   "metadata": {
    "scrolled": true
   },
   "outputs": [
    {
     "data": {
      "application/vnd.jupyter.widget-view+json": {
       "model_id": "",
       "version_major": 2,
       "version_minor": 0
      },
      "text/plain": [
       "FloatProgress(value=0.0, bar_style='info', description='Progress:', layout=Layout(height='25px', width='50%'),…"
      ]
     },
     "metadata": {},
     "output_type": "display_data"
    },
    {
     "data": {
      "image/png": "[encoded data removed]",
      "text/plain": [
       "<IPython.core.display.Image object>"
      ]
     },
     "metadata": {},
     "output_type": "display_data"
    }
   ],
   "source": [
    "df1 = matched_data1.toPandas()\n",
    "df0 = randomdata_0.toPandas()\n",
    "\n",
    "fig, (ax1, ax2) = plt.subplots(1, 2, figsize=(10, 5)) \n",
    "\n",
    "# Plotting the distribution of the column 'ndvi-loss'\n",
    "ax1.hist(df1['NDVI_Loss'], bins=50, alpha=0.7, color='blue')\n",
    "ax1.set_title('Distribution of NDVI_Loss (mine)')\n",
    "ax1.set_xlabel('NDVI_Loss')\n",
    "ax1.set_ylabel('Frequency')\n",
    "ax1.grid(True)\n",
    "\n",
    "\n",
    "# Plotting the distribution of the column 'ndvi-loss'\n",
    "ax2.hist(df0['NDVI_Loss'], bins=50, alpha=0.7, color='blue')\n",
    "ax2.set_title('Distribution of NDVI_Loss (not_min)')\n",
    "ax2.set_xlabel('NDVI_Loss')\n",
    "ax2.set_ylabel('Frequency')\n",
    "ax2.grid(True)\n",
    "\n",
    "\n",
    "%matplot plt"
   ]
  },
  {
   "cell_type": "code",
   "execution_count": 60,
   "metadata": {},
   "outputs": [
    {
     "data": {
      "application/vnd.jupyter.widget-view+json": {
       "model_id": "",
       "version_major": 2,
       "version_minor": 0
      },
      "text/plain": [
       "FloatProgress(value=0.0, bar_style='info', description='Progress:', layout=Layout(height='25px', width='50%'),…"
      ]
     },
     "metadata": {},
     "output_type": "display_data"
    },
    {
     "data": {
      "image/png": "[encoded data removed]",
      "text/plain": [
       "<IPython.core.display.Image object>"
      ]
     },
     "metadata": {},
     "output_type": "display_data"
    }
   ],
   "source": [
    "fig, (ax1, ax2) = plt.subplots(1, 2, figsize=(10, 5)) \n",
    "\n",
    "# Plotting the distance_to_village of the column 'distance_to_waterway'\n",
    "ax1.hist(df1['Distance_to_Waterways'], bins=50, alpha=0.7, color='blue')\n",
    "ax1.set_title('Distribution of distance_to_waterway (mine)')\n",
    "ax1.set_xlabel('distance_to_waterway')\n",
    "ax1.set_ylabel('Frequency')\n",
    "ax1.grid(True)\n",
    "\n",
    "\n",
    "# Plotting the distribution of the column 'distance_to_waterway'\n",
    "ax2.hist(df0['Distance_to_Waterways'], bins=50, alpha=0.7, color='blue')\n",
    "ax2.set_title('Distribution of distance_to_waterway (not_mine)')\n",
    "ax2.set_xlabel('distance_to_waterway')\n",
    "ax2.set_ylabel('Frequency')\n",
    "ax2.grid(True)\n",
    "\n",
    "\n",
    "%matplot plt"
   ]
  },
  {
   "cell_type": "code",
   "execution_count": 61,
   "metadata": {},
   "outputs": [
    {
     "data": {
      "application/vnd.jupyter.widget-view+json": {
       "model_id": "",
       "version_major": 2,
       "version_minor": 0
      },
      "text/plain": [
       "FloatProgress(value=0.0, bar_style='info', description='Progress:', layout=Layout(height='25px', width='50%'),…"
      ]
     },
     "metadata": {},
     "output_type": "display_data"
    },
    {
     "data": {
      "image/png": "[encoded data removed]",
      "text/plain": [
       "<IPython.core.display.Image object>"
      ]
     },
     "metadata": {},
     "output_type": "display_data"
    }
   ],
   "source": [
    "fig, (ax1, ax2) = plt.subplots(1, 2, figsize=(10, 5)) \n",
    "\n",
    "# Plotting the distance_to_village of the column 'distance_to_local_road'\n",
    "ax1.hist(df1['Distance_to_Roads'], bins=50, alpha=0.7, color='blue')\n",
    "ax1.set_title('Distribution of Distance_to_Roads (mine)')\n",
    "ax1.set_xlabel('Distance_to_Roads')\n",
    "ax1.set_ylabel('Frequency')\n",
    "ax1.grid(True)\n",
    "\n",
    "\n",
    "# Plotting the distribution of the column 'distance_to_local_road'\n",
    "ax2.hist(df0['Distance_to_Roads'], bins=50, alpha=0.7, color='blue')\n",
    "ax2.set_title('Distribution of Distance_to_Roads (not_mine)')\n",
    "ax2.set_xlabel('Distance_to_Roads')\n",
    "ax2.set_ylabel('Frequency')\n",
    "ax2.grid(True)\n",
    "\n",
    "\n",
    "%matplot plt"
   ]
  },
  {
   "cell_type": "code",
   "execution_count": 62,
   "metadata": {},
   "outputs": [
    {
     "data": {
      "application/vnd.jupyter.widget-view+json": {
       "model_id": "",
       "version_major": 2,
       "version_minor": 0
      },
      "text/plain": [
       "FloatProgress(value=0.0, bar_style='info', description='Progress:', layout=Layout(height='25px', width='50%'),…"
      ]
     },
     "metadata": {},
     "output_type": "display_data"
    },
    {
     "data": {
      "image/png": "[encoded data removed]",
      "text/plain": [
       "<IPython.core.display.Image object>"
      ]
     },
     "metadata": {},
     "output_type": "display_data"
    }
   ],
   "source": [
    "fig, (ax1, ax2) = plt.subplots(1, 2, figsize=(10, 5)) \n",
    "\n",
    "# Plotting the distance_to_village of the column 'distance_to_protected_area'\n",
    "ax1.hist(df1['Distance_to_Protected_Areas_Points'], bins=50, alpha=0.7, color='blue')\n",
    "ax1.set_title('Distribution of distance_to_protected_area (mine)')\n",
    "ax1.set_xlabel('distance_to_protected_area')\n",
    "ax1.set_ylabel('Frequency')\n",
    "ax1.grid(True)\n",
    "\n",
    "\n",
    "# Plotting the distribution of the column 'distance_to_protected_area'\n",
    "ax2.hist(df0['Distance_to_Protected_Areas_Points'], bins=50, alpha=0.7, color='blue')\n",
    "ax2.set_title('Distribution of distance_to_protected_area (not_mine)')\n",
    "ax2.set_xlabel('distance_to_protected_area')\n",
    "ax2.set_ylabel('Frequency')\n",
    "ax2.grid(True)\n",
    "\n",
    "\n",
    "%matplot plt"
   ]
  },
  {
   "cell_type": "code",
   "execution_count": 63,
   "metadata": {},
   "outputs": [
    {
     "data": {
      "application/vnd.jupyter.widget-view+json": {
       "model_id": "",
       "version_major": 2,
       "version_minor": 0
      },
      "text/plain": [
       "FloatProgress(value=0.0, bar_style='info', description='Progress:', layout=Layout(height='25px', width='50%'),…"
      ]
     },
     "metadata": {},
     "output_type": "display_data"
    },
    {
     "data": {
      "image/png": "[encoded data removed]",
      "text/plain": [
       "<IPython.core.display.Image object>"
      ]
     },
     "metadata": {},
     "output_type": "display_data"
    }
   ],
   "source": [
    "import pandas as pd\n",
    "import matplotlib.pyplot as plt\n",
    "\n",
    "features = ['Band1_2023', 'Band2_2023', 'Band3_2023', 'Band6_2023', 'Band10_2023', 'Distance_to_Roads', 'Distance_to_Waterways','Distance_to_Protected_Areas_Points']\n",
    "\n",
    "target = 'Mining_Label'\n",
    "\n",
    "# Select the required columns\n",
    "selected_columns = features + [target]\n",
    "combined_data = randomdata_0.union(matched_data1)\n",
    "data1 = combined_data.select(selected_columns)\n",
    "\n",
    "# Convert to Pandas DataFrame\n",
    "pandas_df = data1.toPandas()\n",
    "\n",
    "# Compute the correlation matrix\n",
    "correlation_matrix = pandas_df.corr()\n",
    "\n",
    "# Plot the heatmap using Matplotlib\n",
    "plt.figure(figsize=(12, 8))\n",
    "heatmap = plt.imshow(correlation_matrix, cmap='coolwarm', interpolation='nearest')\n",
    "plt.colorbar(heatmap)\n",
    "\n",
    "# Add labels\n",
    "plt.xticks(np.arange(len(correlation_matrix.columns)), correlation_matrix.columns, rotation=45, ha='right')\n",
    "plt.yticks(np.arange(len(correlation_matrix.index)), correlation_matrix.index)\n",
    "\n",
    "# Annotate the heatmap\n",
    "for i in range(len(correlation_matrix.columns)):\n",
    "    for j in range(len(correlation_matrix.index)):\n",
    "        plt.text(j, i, f\"{correlation_matrix.iloc[i, j]:.2f}\", ha='center', va='center', color='black')\n",
    "\n",
    "plt.title('Correlation Heatmap')\n",
    "\n",
    "\n",
    "%matplot plt"
   ]
  },
  {
   "cell_type": "markdown",
   "metadata": {},
   "source": [
    "## Step 2:  Data Transformations and Feature Engineering"
   ]
  },
  {
   "cell_type": "code",
   "execution_count": 64,
   "metadata": {},
   "outputs": [
    {
     "data": {
      "application/vnd.jupyter.widget-view+json": {
       "model_id": "",
       "version_major": 2,
       "version_minor": 0
      },
      "text/plain": [
       "FloatProgress(value=0.0, bar_style='info', description='Progress:', layout=Layout(height='25px', width='50%'),…"
      ]
     },
     "metadata": {},
     "output_type": "display_data"
    }
   ],
   "source": [
    "## Assembler feature\n",
    "features = ['Band1_2023', 'Band2_2023', 'Band3_2023', 'Band6_2023', 'Band10_2023', 'Distance_to_Roads', 'Distance_to_Waterways','Distance_to_Protected_Areas_Points']\n",
    "assembler = VectorAssembler(inputCols=features, outputCol='myfeatures')\n",
    "\n",
    "# Add a normalizer\n",
    "normalizer = Normalizer(inputCol=\"myfeatures\", outputCol=\"normFeatures\", p=1.0)"
   ]
  },
  {
   "cell_type": "markdown",
   "metadata": {},
   "source": [
    "## Step 3: Develop Pipelines and Employee Machine Learnig Models to Predict"
   ]
  },
  {
   "cell_type": "code",
   "execution_count": 65,
   "metadata": {},
   "outputs": [
    {
     "data": {
      "application/vnd.jupyter.widget-view+json": {
       "model_id": "",
       "version_major": 2,
       "version_minor": 0
      },
      "text/plain": [
       "FloatProgress(value=0.0, bar_style='info', description='Progress:', layout=Layout(height='25px', width='50%'),…"
      ]
     },
     "metadata": {},
     "output_type": "display_data"
    },
    {
     "name": "stdout",
     "output_type": "stream",
     "text": [
      "True True"
     ]
    }
   ],
   "source": [
    "# split into train/test data\n",
    "train_1, test_1 = combined_data.randomSplit([0.7, 0.3], seed=0)\n",
    "\n",
    "# Persist data in memory to speed up I/O during training/testing\n",
    "train_1.persist()\n",
    "test_1.persist()\n",
    "\n",
    "# confirm they're cached\n",
    "print(train_1.is_cached, train_1.is_cached)"
   ]
  },
  {
   "cell_type": "markdown",
   "metadata": {},
   "source": [
    "## 3.1 Logit Model"
   ]
  },
  {
   "cell_type": "markdown",
   "metadata": {},
   "source": [
    "### 3.1.1  Develop Pipeline using Logit Model "
   ]
  },
  {
   "cell_type": "code",
   "execution_count": 66,
   "metadata": {},
   "outputs": [
    {
     "data": {
      "application/vnd.jupyter.widget-view+json": {
       "model_id": "",
       "version_major": 2,
       "version_minor": 0
      },
      "text/plain": [
       "FloatProgress(value=0.0, bar_style='info', description='Progress:', layout=Layout(height='25px', width='50%'),…"
      ]
     },
     "metadata": {},
     "output_type": "display_data"
    }
   ],
   "source": [
    "# Define the Logit Regression model\n",
    "lr = LogisticRegression(featuresCol='normFeatures', labelCol='Mining_Label')\n",
    "\n",
    "\n",
    "# Create the pipeline\n",
    "pipeline = Pipeline(stages=[assembler,\n",
    "                            normalizer,\n",
    "                            lr])\n",
    " "
   ]
  },
  {
   "cell_type": "markdown",
   "metadata": {},
   "source": [
    "### 3.1.2  Test Pipeline Performance using Combined Data"
   ]
  },
  {
   "cell_type": "code",
   "execution_count": 67,
   "metadata": {},
   "outputs": [
    {
     "data": {
      "application/vnd.jupyter.widget-view+json": {
       "model_id": "",
       "version_major": 2,
       "version_minor": 0
      },
      "text/plain": [
       "FloatProgress(value=0.0, bar_style='info', description='Progress:', layout=Layout(height='25px', width='50%'),…"
      ]
     },
     "metadata": {},
     "output_type": "display_data"
    },
    {
     "name": "stdout",
     "output_type": "stream",
     "text": [
      "Test Accuracy: 0.8072699734948883\n",
      "Confusion Matrix:\n",
      " [[1122.  213.]\n",
      " [ 296. 1010.]]\n",
      "True Positives (TP): 1010.0\n",
      "True Negatives (TN): 1122.0\n",
      "False Positives (FP): 213.0\n",
      "False Negatives (FN): 296.0\n",
      "True positive rate = 0.7733537519142419\n",
      "True negative rate = 0.8404494382022472"
     ]
    }
   ],
   "source": [
    "# Train the model\n",
    "logitmodel = pipeline.fit(train_1)\n",
    "\n",
    "# Make predictions\n",
    "predictions = logitmodel.transform(test_1)\n",
    "\n",
    "# Evaluate the model\n",
    "evaluator = MulticlassClassificationEvaluator(labelCol=\"Mining_Label\", predictionCol=\"prediction\", metricName=\"accuracy\")\n",
    "accuracy = evaluator.evaluate(predictions)\n",
    "print(\"Test Accuracy: \" + str(accuracy))\n",
    "\n",
    "# Compute additional metrics\n",
    "prediction_and_labels = predictions.select(col(\"prediction\").cast(\"double\"), col(\"Mining_Label\").cast(\"double\")).rdd.map(tuple)\n",
    "metrics = MulticlassMetrics(prediction_and_labels)\n",
    "\n",
    "confusion_matrix = metrics.confusionMatrix().toArray()\n",
    "print(\"Confusion Matrix:\\n\", confusion_matrix)\n",
    "\n",
    "tp = confusion_matrix[1, 1]\n",
    "tn = confusion_matrix[0, 0]\n",
    "fp = confusion_matrix[0, 1]\n",
    "fn = confusion_matrix[1, 0]\n",
    "\n",
    "print(f\"True Positives (TP): {tp}\")\n",
    "print(f\"True Negatives (TN): {tn}\")\n",
    "print(f\"False Positives (FP): {fp}\")\n",
    "print(f\"False Negatives (FN): {fn}\")\n",
    "\n",
    "print(\"True positive rate = {}\".format(tp / (tp + fn)))\n",
    "print(\"True negative rate = {}\".format(tn / (tn + fp)))"
   ]
  },
  {
   "cell_type": "code",
   "execution_count": 68,
   "metadata": {
    "vscode": {
     "languageId": "plaintext"
    }
   },
   "outputs": [
    {
     "data": {
      "application/vnd.jupyter.widget-view+json": {
       "model_id": "",
       "version_major": 2,
       "version_minor": 0
      },
      "text/plain": [
       "FloatProgress(value=0.0, bar_style='info', description='Progress:', layout=Layout(height='25px', width='50%'),…"
      ]
     },
     "metadata": {},
     "output_type": "display_data"
    }
   ],
   "source": [
    "## Finding Optimal Model Parameters \n",
    "\n",
    "paramGrid = ParamGridBuilder() \\\n",
    "    .addGrid(lr.regParam, np.arange(0, 0.1, 0.01)) \\\n",
    "    .addGrid(lr.elasticNetParam, [0, 1]) \\\n",
    "    .build()\n",
    "\n",
    "evaluator = RegressionEvaluator(labelCol=\"Mining_Label\", metricName=\"rmse\")\n",
    "\n",
    "crossval = CrossValidator(estimator=pipeline,\n",
    "                          estimatorParamMaps=paramGrid,\n",
    "                          evaluator=evaluator,\n",
    "                          numFolds=5) "
   ]
  },
  {
   "cell_type": "code",
   "execution_count": 69,
   "metadata": {},
   "outputs": [
    {
     "data": {
      "application/vnd.jupyter.widget-view+json": {
       "model_id": "",
       "version_major": 2,
       "version_minor": 0
      },
      "text/plain": [
       "FloatProgress(value=0.0, bar_style='info', description='Progress:', layout=Layout(height='25px', width='50%'),…"
      ]
     },
     "metadata": {},
     "output_type": "display_data"
    }
   ],
   "source": [
    "# Fit the model\n",
    "cvModel = crossval.fit(train_1)\n",
    "\n",
    "# Get the best model\n",
    "bestModel = cvModel.bestModel\n",
    "        "
   ]
  },
  {
   "cell_type": "code",
   "execution_count": 70,
   "metadata": {},
   "outputs": [
    {
     "data": {
      "application/vnd.jupyter.widget-view+json": {
       "model_id": "",
       "version_major": 2,
       "version_minor": 0
      },
      "text/plain": [
       "FloatProgress(value=0.0, bar_style='info', description='Progress:', layout=Layout(height='25px', width='50%'),…"
      ]
     },
     "metadata": {},
     "output_type": "display_data"
    },
    {
     "name": "stdout",
     "output_type": "stream",
     "text": [
      "Root Mean Squared Error (RMSE) on test data:  0.43901028063715286"
     ]
    }
   ],
   "source": [
    "### Evaluate the Model on whole Data\n",
    "\n",
    "predictions = bestModel.transform(test_1)\n",
    "rmse = evaluator.evaluate(predictions)\n",
    "print(\"Root Mean Squared Error (RMSE) on test data: \", rmse)"
   ]
  },
  {
   "cell_type": "code",
   "execution_count": 85,
   "metadata": {},
   "outputs": [
    {
     "data": {
      "application/vnd.jupyter.widget-view+json": {
       "model_id": "",
       "version_major": 2,
       "version_minor": 0
      },
      "text/plain": [
       "FloatProgress(value=0.0, bar_style='info', description='Progress:', layout=Layout(height='25px', width='50%'),…"
      ]
     },
     "metadata": {},
     "output_type": "display_data"
    },
    {
     "name": "stdout",
     "output_type": "stream",
     "text": [
      "Feature Importances:\n",
      "Distance_to_Waterways: 1315069.2255587522\n",
      "Distance_to_Protected_Areas_Points: 301722.74168905395\n",
      "Distance_to_Roads: 278827.4370103807\n",
      "Band2_2023: -548.1009794792087\n",
      "Band3_2023: 302.3392653868317\n",
      "Band1_2023: 301.57129510397584\n",
      "Band6_2023: -23.470915116092907\n",
      "Band10_2023: -16.12671737146959"
     ]
    }
   ],
   "source": [
    "# Extract feature coefficients feature \n",
    "\n",
    "features_coefficients = bestModel.stages[-1].coefficients\n",
    "importance = dict(zip(features, features_coefficients))\n",
    "sorted_importance = sorted(importance.items(), key=lambda x: abs(x[1]), reverse=True)\n",
    "\n",
    "print(\"Feature Importances:\")\n",
    "for feature,coeff in sorted_importance:\n",
    "    print(f\"{feature}: {coeff}\")"
   ]
  },
  {
   "cell_type": "markdown",
   "metadata": {},
   "source": [
    "## 3.2 Random Forest "
   ]
  },
  {
   "cell_type": "markdown",
   "metadata": {},
   "source": [
    "### 3.2.1  Develop Pipeline "
   ]
  },
  {
   "cell_type": "code",
   "execution_count": 77,
   "metadata": {},
   "outputs": [
    {
     "data": {
      "application/vnd.jupyter.widget-view+json": {
       "model_id": "",
       "version_major": 2,
       "version_minor": 0
      },
      "text/plain": [
       "FloatProgress(value=0.0, bar_style='info', description='Progress:', layout=Layout(height='25px', width='50%'),…"
      ]
     },
     "metadata": {},
     "output_type": "display_data"
    }
   ],
   "source": [
    "\n",
    "# We can train a logistic regression classifier to predict the binary feature `Mining_Label`.\n",
    "\n",
    "rf = RandomForestClassifier(featuresCol='normFeatures', labelCol='Mining_Label')\n",
    "\n",
    "# Create the pipelisne\n",
    "pipeline = Pipeline(stages=[assembler,\n",
    "                            normalizer,\n",
    "                            rf])"
   ]
  },
  {
   "cell_type": "markdown",
   "metadata": {},
   "source": [
    "###  3.2.2  Test Pipeline Performance "
   ]
  },
  {
   "cell_type": "code",
   "execution_count": 78,
   "metadata": {},
   "outputs": [
    {
     "data": {
      "application/vnd.jupyter.widget-view+json": {
       "model_id": "",
       "version_major": 2,
       "version_minor": 0
      },
      "text/plain": [
       "FloatProgress(value=0.0, bar_style='info', description='Progress:', layout=Layout(height='25px', width='50%'),…"
      ]
     },
     "metadata": {},
     "output_type": "display_data"
    },
    {
     "name": "stdout",
     "output_type": "stream",
     "text": [
      "Test Accuracy: 0.8553578190079515\n",
      "Confusion Matrix:\n",
      " [[1200.  135.]\n",
      " [ 247. 1059.]]\n",
      "True Positives (TP): 1059.0\n",
      "True Negatives (TN): 1200.0\n",
      "False Positives (FP): 135.0\n",
      "False Negatives (FN): 247.0\n",
      "True positive rate = 0.8869346733668342\n",
      "True negative rate = 0.82930200414651"
     ]
    }
   ],
   "source": [
    "\n",
    "## Evaluate random forest model usig data\n",
    "rf_model = pipeline.fit(train_1)\n",
    "\n",
    "predictions = rf_model.transform(test_1)\n",
    "\n",
    "evaluator = MulticlassClassificationEvaluator(labelCol=\"Mining_Label\", predictionCol=\"prediction\", metricName=\"accuracy\")\n",
    "\n",
    "accuracy = evaluator.evaluate(predictions)\n",
    "print(\"Test Accuracy: \" + str(accuracy))\n",
    "\n",
    "\n",
    "prediction_and_labels = predictions.select(col(\"prediction\").cast(\"double\"), col(\"Mining_Label\").cast(\"double\")).rdd.map(tuple)\n",
    "\n",
    "metrics = MulticlassMetrics(prediction_and_labels)\n",
    "\n",
    "\n",
    "confusion_matrix = metrics.confusionMatrix().toArray()\n",
    "print(\"Confusion Matrix:\\n\", confusion_matrix)\n",
    "\n",
    "\n",
    "tp = confusion_matrix[1, 1]\n",
    "tn = confusion_matrix[0, 0]\n",
    "fp = confusion_matrix[0, 1]\n",
    "fn = confusion_matrix[1, 0]\n",
    "\n",
    "print(f\"True Positives (TP): {tp}\")\n",
    "print(f\"True Negatives (TN): {tn}\")\n",
    "print(f\"False Positives (FP): {fp}\")\n",
    "print(f\"False Negatives (FN): {fn}\")\n",
    "\n",
    "print(\"True positive rate = {}\".format(tp / (tp + fp)))\n",
    "print(\"True negative rate = {}\".format(tn / (tn + fn)))"
   ]
  },
  {
   "cell_type": "markdown",
   "metadata": {},
   "source": [
    "## 3.3 Neutral Network"
   ]
  },
  {
   "cell_type": "markdown",
   "metadata": {},
   "source": [
    "### 3.3.1 Develop Pipeline"
   ]
  },
  {
   "cell_type": "code",
   "execution_count": 79,
   "metadata": {},
   "outputs": [
    {
     "data": {
      "application/vnd.jupyter.widget-view+json": {
       "model_id": "",
       "version_major": 2,
       "version_minor": 0
      },
      "text/plain": [
       "FloatProgress(value=0.0, bar_style='info', description='Progress:', layout=Layout(height='25px', width='50%'),…"
      ]
     },
     "metadata": {},
     "output_type": "display_data"
    }
   ],
   "source": [
    "# Specify layers for the neural network:\n",
    "# Input layer of size 8 (features), two intermediate layers of size 16 and 32,\n",
    "# and output layer of size 2 (classes)\n",
    "from pyspark.ml.evaluation import MulticlassClassificationEvaluator\n",
    "from pyspark.ml.classification import MultilayerPerceptronClassifier\n",
    "\n",
    "layers = [8, 16, 32, 2]\n",
    "\n",
    "# Create the trainer and set its parameters\n",
    "trainer = MultilayerPerceptronClassifier(maxIter=100, layers=layers, blockSize=128, seed=1234, labelCol=\"Mining_Label\", featuresCol=\"normFeatures\")\n",
    "\n",
    "# Create the pipeline\n",
    "pipeline = Pipeline(stages=[assembler,\n",
    "                            normalizer,\n",
    "                            trainer])\n"
   ]
  },
  {
   "cell_type": "markdown",
   "metadata": {},
   "source": [
    "### 3.3.2  Test Pipeline Performance using combined Data"
   ]
  },
  {
   "cell_type": "code",
   "execution_count": 80,
   "metadata": {},
   "outputs": [
    {
     "data": {
      "application/vnd.jupyter.widget-view+json": {
       "model_id": "",
       "version_major": 2,
       "version_minor": 0
      },
      "text/plain": [
       "FloatProgress(value=0.0, bar_style='info', description='Progress:', layout=Layout(height='25px', width='50%'),…"
      ]
     },
     "metadata": {},
     "output_type": "display_data"
    },
    {
     "name": "stdout",
     "output_type": "stream",
     "text": [
      "Test set accuracy = 0.7864445285876562"
     ]
    }
   ],
   "source": [
    "# Train the model using train_1 dataset\n",
    "model_1 = pipeline.fit(train_1)\n",
    "\n",
    "# Compute accuracy on the test set\n",
    "result = model_1.transform(test_1)\n",
    "prediction_and_labels = result.select(\"prediction\", \"Mining_Label\")\n",
    "evaluator = MulticlassClassificationEvaluator(labelCol=\"Mining_Label\", predictionCol=\"prediction\", metricName=\"accuracy\")\n",
    "accuracy = evaluator.evaluate(result)\n",
    "\n",
    "print(f\"Test set accuracy = {accuracy}\")\n"
   ]
  },
  {
   "cell_type": "code",
   "execution_count": 81,
   "metadata": {},
   "outputs": [
    {
     "data": {
      "application/vnd.jupyter.widget-view+json": {
       "model_id": "",
       "version_major": 2,
       "version_minor": 0
      },
      "text/plain": [
       "FloatProgress(value=0.0, bar_style='info', description='Progress:', layout=Layout(height='25px', width='50%'),…"
      ]
     },
     "metadata": {},
     "output_type": "display_data"
    },
    {
     "name": "stdout",
     "output_type": "stream",
     "text": [
      "Confusion Matrix:\n",
      " [[1045.  290.]\n",
      " [ 274. 1032.]]\n",
      "True Positives (TP): 1032.0\n",
      "True Negatives (TN): 1045.0\n",
      "False Positives (FP): 290.0\n",
      "False Negatives (FN): 274.0\n",
      "True positive rate = 0.7806354009077155\n",
      "True negative rate = 0.7922668688400303"
     ]
    }
   ],
   "source": [
    "prediction_and_labels = result.select(col(\"prediction\").cast(\"double\"), col(\"Mining_Label\").cast(\"double\")).rdd.map(tuple)\n",
    "\n",
    "metrics = MulticlassMetrics(prediction_and_labels)\n",
    "\n",
    "\n",
    "confusion_matrix = metrics.confusionMatrix().toArray()\n",
    "print(\"Confusion Matrix:\\n\", confusion_matrix)\n",
    "\n",
    "\n",
    "tp = confusion_matrix[1, 1]\n",
    "tn = confusion_matrix[0, 0]\n",
    "fp = confusion_matrix[0, 1]\n",
    "fn = confusion_matrix[1, 0]\n",
    "\n",
    "print(f\"True Positives (TP): {tp}\")\n",
    "print(f\"True Negatives (TN): {tn}\")\n",
    "print(f\"False Positives (FP): {fp}\")\n",
    "print(f\"False Negatives (FN): {fn}\")\n",
    "\n",
    "print(\"True positive rate = {}\".format(tp / (tp + fp)))\n",
    "print(\"True negative rate = {}\".format(tn / (tn + fn)))"
   ]
  },
  {
   "cell_type": "markdown",
   "metadata": {},
   "source": [
    "## 3.3 Decision Tree"
   ]
  },
  {
   "cell_type": "code",
   "execution_count": 82,
   "metadata": {},
   "outputs": [
    {
     "data": {
      "application/vnd.jupyter.widget-view+json": {
       "model_id": "",
       "version_major": 2,
       "version_minor": 0
      },
      "text/plain": [
       "FloatProgress(value=0.0, bar_style='info', description='Progress:', layout=Layout(height='25px', width='50%'),…"
      ]
     },
     "metadata": {},
     "output_type": "display_data"
    }
   ],
   "source": [
    "from pyspark.ml.classification import DecisionTreeClassifier\n",
    "\n",
    "# Create Decision Tree model\n",
    "dt = DecisionTreeClassifier(labelCol=\"Mining_Label\", featuresCol=\"normFeatures\", maxDepth=1)\n",
    "\n",
    "# Create the pipelisne\n",
    "pipeline = Pipeline(stages=[assembler,\n",
    "                            normalizer,\n",
    "                            dt])\n"
   ]
  },
  {
   "cell_type": "code",
   "execution_count": 83,
   "metadata": {},
   "outputs": [
    {
     "data": {
      "application/vnd.jupyter.widget-view+json": {
       "model_id": "",
       "version_major": 2,
       "version_minor": 0
      },
      "text/plain": [
       "FloatProgress(value=0.0, bar_style='info', description='Progress:', layout=Layout(height='25px', width='50%'),…"
      ]
     },
     "metadata": {},
     "output_type": "display_data"
    },
    {
     "name": "stdout",
     "output_type": "stream",
     "text": [
      "Test Accuracy: 0.7925028398333964\n",
      "Confusion Matrix:\n",
      " [[1146.  189.]\n",
      " [ 359.  947.]]\n",
      "True Positives (TP): 947.0\n",
      "True Negatives (TN): 1146.0\n",
      "False Positives (FP): 189.0\n",
      "False Negatives (FN): 359.0\n",
      "True positive rate = 0.8336267605633803\n",
      "True negative rate = 0.7614617940199335"
     ]
    }
   ],
   "source": [
    "## Evaluate random forest model usig data\n",
    "dt_model = pipeline.fit(train_1)\n",
    "\n",
    "predictions = dt_model.transform(test_1)\n",
    "\n",
    "evaluator = MulticlassClassificationEvaluator(labelCol=\"Mining_Label\", predictionCol=\"prediction\", metricName=\"accuracy\")\n",
    "\n",
    "accuracy = evaluator.evaluate(predictions)\n",
    "print(\"Test Accuracy: \" + str(accuracy))\n",
    "\n",
    "\n",
    "prediction_and_labels = predictions.select(col(\"prediction\").cast(\"double\"), col(\"Mining_Label\").cast(\"double\")).rdd.map(tuple)\n",
    "\n",
    "metrics = MulticlassMetrics(prediction_and_labels)\n",
    "\n",
    "\n",
    "confusion_matrix = metrics.confusionMatrix().toArray()\n",
    "print(\"Confusion Matrix:\\n\", confusion_matrix)\n",
    "\n",
    "\n",
    "tp = confusion_matrix[1, 1]\n",
    "tn = confusion_matrix[0, 0]\n",
    "fp = confusion_matrix[0, 1]\n",
    "fn = confusion_matrix[1, 0]\n",
    "\n",
    "print(f\"True Positives (TP): {tp}\")\n",
    "print(f\"True Negatives (TN): {tn}\")\n",
    "print(f\"False Positives (FP): {fp}\")\n",
    "print(f\"False Negatives (FN): {fn}\")\n",
    "\n",
    "print(\"True positive rate = {}\".format(tp / (tp + fp)))\n",
    "print(\"True negative rate = {}\".format(tn / (tn + fn)))"
   ]
  },
  {
   "cell_type": "code",
   "execution_count": 84,
   "metadata": {},
   "outputs": [
    {
     "data": {
      "application/vnd.jupyter.widget-view+json": {
       "model_id": "",
       "version_major": 2,
       "version_minor": 0
      },
      "text/plain": [
       "FloatProgress(value=0.0, bar_style='info', description='Progress:', layout=Layout(height='25px', width='50%'),…"
      ]
     },
     "metadata": {},
     "output_type": "display_data"
    },
    {
     "name": "stderr",
     "output_type": "stream",
     "text": [
      "An error was encountered:\n",
      "No module named 'IPython'\n",
      "Traceback (most recent call last):\n",
      "ModuleNotFoundError: No module named 'IPython'\n",
      "\n"
     ]
    }
   ],
   "source": [
    "\n",
    "from graphviz import Source\n",
    "from IPython.display import display\n",
    "\n",
    "# Assuming decision_tree_model is your trained DecisionTreeClassificationModel\n",
    "decision_tree_model = dt_model.stages[-1]\n",
    "dot_data = decision_tree_model.toDebugString.replace('TreeEnsembleModel', 'DecisionTree')\n",
    "dot_data = dot_data.replace('|', '\\n')\n",
    "\n",
    "# Create a Graphviz source object\n",
    "graph = Source(dot_data)\n",
    "\n",
    "# Display the tree inline\n",
    "display(graph)\n"
   ]
  },
  {
   "cell_type": "code",
   "execution_count": null,
   "metadata": {},
   "outputs": [],
   "source": []
  }
 ],
 "metadata": {
  "kernelspec": {
   "display_name": "PySpark",
   "language": "",
   "name": "pysparkkernel"
  },
  "language_info": {
   "codemirror_mode": {
    "name": "python",
    "version": 3
   },
   "mimetype": "text/x-python",
   "name": "pyspark",
   "pygments_lexer": "python3"
  }
 },
 "nbformat": 4,
 "nbformat_minor": 2
}
